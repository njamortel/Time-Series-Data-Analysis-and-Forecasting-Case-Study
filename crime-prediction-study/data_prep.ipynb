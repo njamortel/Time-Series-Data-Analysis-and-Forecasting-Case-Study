{
 "cells": [
  {
   "cell_type": "code",
   "execution_count": 26,
   "metadata": {},
   "outputs": [],
   "source": [
    "import tensorflow as tf\n",
    "import pandas as pd\n",
    "import numpy as np\n",
    "from sklearn.model_selection import train_test_split\n",
    "from sklearn.preprocessing import LabelEncoder\n",
    "import matplotlib.pyplot as plt"
   ]
  },
  {
   "cell_type": "code",
   "execution_count": 27,
   "metadata": {},
   "outputs": [
    {
     "name": "stdout",
     "output_type": "stream",
     "text": [
      "       DR_NO               Date Rptd                DATE OCC  TIME OCC  AREA  \\\n",
      "0   10304468  01/08/2020 12:00:00 AM  01/08/2020 12:00:00 AM      2230     3   \n",
      "1  190101086  01/02/2020 12:00:00 AM  01/01/2020 12:00:00 AM       330     1   \n",
      "2  200110444  04/14/2020 12:00:00 AM  02/13/2020 12:00:00 AM      1200     1   \n",
      "3  191501505  01/01/2020 12:00:00 AM  01/01/2020 12:00:00 AM      1730    15   \n",
      "4  191921269  01/01/2020 12:00:00 AM  01/01/2020 12:00:00 AM       415    19   \n",
      "\n",
      "     AREA NAME  Rpt Dist No  Part 1-2  Crm Cd  \\\n",
      "0    Southwest          377         2     624   \n",
      "1      Central          163         2     624   \n",
      "2      Central          155         2     845   \n",
      "3  N Hollywood         1543         2     745   \n",
      "4      Mission         1998         2     740   \n",
      "\n",
      "                                         Crm Cd Desc  ... Status  \\\n",
      "0                           BATTERY - SIMPLE ASSAULT  ...     AO   \n",
      "1                           BATTERY - SIMPLE ASSAULT  ...     IC   \n",
      "2          SEX OFFENDER REGISTRANT OUT OF COMPLIANCE  ...     AA   \n",
      "3           VANDALISM - MISDEAMEANOR ($399 OR UNDER)  ...     IC   \n",
      "4  VANDALISM - FELONY ($400 & OVER, ALL CHURCH VA...  ...     IC   \n",
      "\n",
      "    Status Desc Crm Cd 1 Crm Cd 2  Crm Cd 3 Crm Cd 4  \\\n",
      "0   Adult Other    624.0      NaN       NaN      NaN   \n",
      "1   Invest Cont    624.0      NaN       NaN      NaN   \n",
      "2  Adult Arrest    845.0      NaN       NaN      NaN   \n",
      "3   Invest Cont    745.0    998.0       NaN      NaN   \n",
      "4   Invest Cont    740.0      NaN       NaN      NaN   \n",
      "\n",
      "                                   LOCATION Cross Street      LAT       LON  \n",
      "0   1100 W  39TH                         PL          NaN  34.0141 -118.2978  \n",
      "1    700 S  HILL                         ST          NaN  34.0459 -118.2545  \n",
      "2    200 E  6TH                          ST          NaN  34.0448 -118.2474  \n",
      "3   5400    CORTEEN                      PL          NaN  34.1685 -118.4019  \n",
      "4  14400    TITUS                        ST          NaN  34.2198 -118.4468  \n",
      "\n",
      "[5 rows x 28 columns]\n"
     ]
    }
   ],
   "source": [
    "# Load a CSV file into a DataFrame\n",
    "\n",
    "# set the path to your path and filename\n",
    "\n",
    "csv_file = 'Crime_Data_from_2020_to_Present.csv'\n",
    "\n",
    "df = pd.read_csv(csv_file)\n",
    "\n",
    "# Display the frst few rows of the DataFrame\n",
    "print(df.head())"
   ]
  },
  {
   "cell_type": "code",
   "execution_count": 28,
   "metadata": {},
   "outputs": [],
   "source": [
    "# Select the relevant features (columns) for your prediction\n",
    "features = ['Date Rptd']\n",
    "target = 'Crm Cd'"
   ]
  },
  {
   "cell_type": "code",
   "execution_count": 32,
   "metadata": {},
   "outputs": [],
   "source": [
    "# Split the data into features and target\n",
    "X = df.drop('DR_NO', axis=1)\n",
    "y = df['DR_NO']\n",
    "\n",
    "# Extract the features and target variable\n",
    "X = df[features]\n",
    "y = df[target]"
   ]
  },
  {
   "cell_type": "code",
   "execution_count": 33,
   "metadata": {},
   "outputs": [
    {
     "name": "stderr",
     "output_type": "stream",
     "text": [
      "C:\\Users\\namortel\\AppData\\Local\\Temp\\ipykernel_4240\\2789602336.py:3: SettingWithCopyWarning: \n",
      "A value is trying to be set on a copy of a slice from a DataFrame.\n",
      "Try using .loc[row_indexer,col_indexer] = value instead\n",
      "\n",
      "See the caveats in the documentation: https://pandas.pydata.org/pandas-docs/stable/user_guide/indexing.html#returning-a-view-versus-a-copy\n",
      "  X['Date Rptd'] = le.fit_transform(X['Date Rptd'])\n"
     ]
    }
   ],
   "source": [
    "# Encode 'Date Rptd' using Label Encoding\n",
    "le = LabelEncoder()\n",
    "X['Date Rptd'] = le.fit_transform(X['Date Rptd'])"
   ]
  },
  {
   "cell_type": "code",
   "execution_count": 34,
   "metadata": {},
   "outputs": [],
   "source": [
    "# Split the data into training and testing sets\n",
    "X_train, X_test, y_train, y_test = train_test_split(X, y, test_size=0.2, random_state=42)\n"
   ]
  },
  {
   "cell_type": "code",
   "execution_count": 35,
   "metadata": {},
   "outputs": [],
   "source": [
    "# Reshape the input data to 3D for LSTM (batch size, time steps, features)\n",
    "X_train = np.array(X_train).reshape(-1, 1, X_train.shape[1])\n",
    "X_test = np.array(X_test).reshape(-1, 1, X_test.shape[1])"
   ]
  },
  {
   "cell_type": "code",
   "execution_count": 36,
   "metadata": {},
   "outputs": [],
   "source": [
    "# Build an LSTM model\n",
    "model = tf.keras.Sequential([\n",
    "    tf.keras.layers.LSTM(64, input_shape=(X_train.shape[1], X_train.shape[2])),\n",
    "    tf.keras.layers.Dense(1)\n",
    "])"
   ]
  },
  {
   "cell_type": "code",
   "execution_count": 37,
   "metadata": {},
   "outputs": [],
   "source": [
    "model.compile(optimizer='adam', loss='mean_squared_error')"
   ]
  },
  {
   "cell_type": "code",
   "execution_count": 38,
   "metadata": {},
   "outputs": [
    {
     "name": "stdout",
     "output_type": "stream",
     "text": [
      "Epoch 1/10\n",
      "20292/20292 [==============================] - 134s 6ms/step - loss: 86051.3203 - val_loss: 43337.8711\n",
      "Epoch 2/10\n",
      "20292/20292 [==============================] - 122s 6ms/step - loss: 43175.1836 - val_loss: 43340.5352\n",
      "Epoch 3/10\n",
      "20292/20292 [==============================] - 148s 7ms/step - loss: 43158.4531 - val_loss: 43333.4766\n",
      "Epoch 4/10\n",
      "20292/20292 [==============================] - 153s 8ms/step - loss: 43154.3594 - val_loss: 43331.0391\n",
      "Epoch 5/10\n",
      "20292/20292 [==============================] - 177s 9ms/step - loss: 43149.6602 - val_loss: 43331.0078\n",
      "Epoch 6/10\n",
      "20292/20292 [==============================] - 639s 31ms/step - loss: 43148.9375 - val_loss: 43332.1992\n",
      "Epoch 7/10\n",
      "20292/20292 [==============================] - 771s 38ms/step - loss: 43149.2266 - val_loss: 43329.1523\n",
      "Epoch 8/10\n",
      "20292/20292 [==============================] - 285s 14ms/step - loss: 43155.9570 - val_loss: 43329.9922\n",
      "Epoch 9/10\n",
      "20292/20292 [==============================] - 87s 4ms/step - loss: 43149.3750 - val_loss: 43330.0469\n",
      "Epoch 10/10\n",
      "20292/20292 [==============================] - 79s 4ms/step - loss: 43162.9375 - val_loss: 43332.3633\n"
     ]
    }
   ],
   "source": [
    "# Train the model\n",
    "history = model.fit(X_train, y_train, epochs=10, batch_size=32, validation_data=(X_test, y_test))\n"
   ]
  },
  {
   "cell_type": "code",
   "execution_count": 40,
   "metadata": {},
   "outputs": [
    {
     "data": {
      "image/png": "[encoded data removed]",
      "text/plain": [
       "<Figure size 640x480 with 1 Axes>"
      ]
     },
     "metadata": {},
     "output_type": "display_data"
    }
   ],
   "source": [
    "# Plot the training and validation loss\n",
    "plt.plot(history.history['loss'], label='Training Loss')\n",
    "plt.plot(history.history['val_loss'], label='Validation Loss')\n",
    "plt.xlabel('Epochs')\n",
    "plt.ylabel('Mean Squared Error')\n",
    "plt.legend()\n",
    "plt.show()"
   ]
  },
  {
   "cell_type": "code",
   "execution_count": null,
   "metadata": {},
   "outputs": [],
   "source": []
  }
 ],
 "metadata": {
  "kernelspec": {
   "display_name": ".venv",
   "language": "python",
   "name": "python3"
  },
  "language_info": {
   "codemirror_mode": {
    "name": "ipython",
    "version": 3
   },
   "file_extension": ".py",
   "mimetype": "text/x-python",
   "name": "python",
   "nbconvert_exporter": "python",
   "pygments_lexer": "ipython3",
   "version": "3.11.2"
  }
 },
 "nbformat": 4,
 "nbformat_minor": 2
}
