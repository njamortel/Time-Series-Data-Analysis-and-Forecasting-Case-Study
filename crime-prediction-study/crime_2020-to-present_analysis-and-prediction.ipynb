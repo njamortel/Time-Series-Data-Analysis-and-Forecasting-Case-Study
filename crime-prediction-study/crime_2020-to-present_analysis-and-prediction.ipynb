{
 "cells": [
  {
   "cell_type": "code",
   "execution_count": 4,
   "metadata": {},
   "outputs": [
    {
     "ename": "",
     "evalue": "",
     "output_type": "error",
     "traceback": [
      "\u001b[1;31mThe Kernel crashed while executing code in the the current cell or a previous cell. Please review the code in the cell(s) to identify a possible cause of the failure. Click <a href='https://aka.ms/vscodeJupyterKernelCrash'>here</a> for more info. View Jupyter <a href='command:jupyter.viewOutput'>log</a> for further details."
     ]
    }
   ],
   "source": [
    "# For data processing\n",
    "import numpy as np\n",
    "from math import sqrt\n",
    "# For data processing and manipulation\n",
    "import pandas as pd\n",
    "import csv\n",
    " \n",
    "# For date calculations\n",
    "import datetime\n",
    "import time\n",
    " \n",
    "# For ploting data\n",
    "import IPython\n",
    "import IPython.display\n",
    " \n",
    "import itertools\n",
    "from itertools import cycle\n",
    "import matplotlib as mpl\n",
    "import matplotlib.pyplot as plt\n",
    "import seaborn as sns\n",
    "%matplotlib inline\n",
    " \n",
    "# For checking path\n",
    "import os , gc\n",
    "from os import path\n",
    "import csv\n",
    "import json\n",
    " \n",
    " \n",
    "from scipy.stats import hmean\n",
    " \n",
    "from sklearn.metrics import mean_squared_error\n",
    " \n",
    "#tensorflow libs\n",
    "from tensorflow.keras.layers import *\n",
    "from tensorflow.keras.layers import Dense , LSTM ,Dropout , PReLU , RepeatVector ,TimeDistributed\n",
    "from tensorflow.keras.models import Sequential\n",
    "from tensorflow.keras.utils import to_categorical , plot_model\n",
    " \n",
    "from tensorflow import keras\n",
    "from tensorflow.keras.callbacks import EarlyStopping , Callback\n",
    "import tensorflow as tf\n",
    "from tensorflow.keras import backend as K\n",
    " \n",
    " \n",
    "tf.get_logger().setLevel('ERROR')\n",
    "mpl.rcParams['figure.figsize'] = (8, 6)\n",
    "mpl.rcParams['axes.grid'] = False"
   ]
  }
 ],
 "metadata": {
  "kernelspec": {
   "display_name": ".venv",
   "language": "python",
   "name": "python3"
  },
  "language_info": {
   "codemirror_mode": {
    "name": "ipython",
    "version": 3
   },
   "file_extension": ".py",
   "mimetype": "text/x-python",
   "name": "python",
   "nbconvert_exporter": "python",
   "pygments_lexer": "ipython3",
   "version": "3.11.2"
  }
 },
 "nbformat": 4,
 "nbformat_minor": 2
}
